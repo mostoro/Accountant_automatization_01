{
 "cells": [
  {
   "cell_type": "code",
   "execution_count": 13,
   "metadata": {},
   "outputs": [
    {
     "name": "stdout",
     "output_type": "stream",
     "text": [
      "<Book [2023-03 - CPI I GP - Contributions.xlsx]> updated\n",
      "<Book [2023-03 - CPI II GP - Contributions.xlsx]> updated\n"
     ]
    }
   ],
   "source": [
    "#Importing libraries\n",
    "import xlwings as xw\n",
    "\n",
    "#Reading schedules\n",
    "mec = input(\"Enter Current Closing Month (Example for March:'03'):\")\n",
    "\n",
    "\n",
    "file_to_update_1 = xw.Book(r'C:..file_1{file}.xlsx'.format(folder=mec,file=mec))\n",
    "file_to_update_2 = xw.Book(r'C:..file_2{file}.xlsx'.format(folder=mec,file=mec))\n",
    "file_to_update_3 = xw.Book(r'C:..file_3{file}.xlsx'.format(folder=mec,file=mec))\n",
    "file_to_update_4 = xw.Book(r'C:..file_4{file}.xlsx'.format(folder=mec,file=mec))\n",
    "file_to_update_5 = xw.Book(r'C:..file_5{file}.xlsx'.format(folder=mec,file=mec))\n",
    "file_to_update_6 = xw.Book(r'C:..file_6{file}.xlsx'.format(folder=mec,file=mec))\n",
    "file_to_update_7 = xw.Book(r'C:..file_7{file}.xlsx'.format(folder=mec,file=mec))\n",
    "file_to_update_8 = xw.Book(r'C:..file_8{file}.xlsx'.format(folder=mec,file=mec))\n",
    "file_to_update_9 = xw.Book(r'C:..file_9{file}.xlsx'.format(folder=mec,file=mec))\n",
    "\n",
    "\n",
    "\n",
    "files_to_update = [file_to_update_1, file_to_update_2, file_to_update_3, file_to_update_4\n",
    "                   , file_to_update_5, file_to_update_6, file_to_update_7, file_to_update_8, file_to_update_9]\n",
    "\n",
    "\n",
    "\n",
    "\n",
    "\n",
    "\n",
    "\n",
    "\n",
    "#Reading Yardi report\n",
    "source_file = xw.Book(r'source_file.xlsx')\n",
    "source = source_file.sheets.active  # in specific book\n",
    "\n",
    "#Updating every schedule in files_to_update\n",
    "cell_h = source['h1']\n",
    "cell_i = source['i1']\n",
    "schedule_keys = []\n",
    "first_cell_date = 200\n",
    "\n",
    "\n",
    "\n",
    "for i in range(len(files_to_update)):\n",
    "\n",
    "    current_schedule = files_to_update[i]\n",
    "\n",
    "    sheet_names = [sheet.name for sheet in current_schedule.sheets]\n",
    "\n",
    "    #Updating date for all properties\n",
    "    for a_cell in sheet_names:\n",
    "        if  a_cell != 'Revision':\n",
    "            current_schedule.sheets['{:}'.format(a_cell)]['B4'].value = source['C8'].value \n",
    "    \n",
    "    #Updating schedule keys\n",
    "    for a_cell in source[\"A6\"].expand(\"down\"):\n",
    "        if a_cell.value in sheet_names and (cell_i.offset(a_cell.row-1).value != 0 or cell_h.offset(a_cell.row-1).value != 0):\n",
    "            for i in range(current_schedule.sheets[a_cell.value]['b{}'.format(first_cell_date)].end('down').row -  current_schedule.sheets[a_cell.value]['b{}'.format(first_cell_date)].row + 1):\n",
    "                schedule_keys.append(str(a_cell.value)+str(current_schedule.sheets[a_cell.value]['b{}'.format(first_cell_date + i)].value) + str(current_schedule.sheets[a_cell.value]['c{}'.format(first_cell_date + i)].value) + str(current_schedule.sheets[a_cell.value]['d{}'.format(first_cell_date + i)].value))\n",
    "\n",
    "    #Updating schedules\n",
    "    for a_cell in source[\"A6\"].expand(\"down\"):\n",
    "        if a_cell.value in sheet_names and cell_h.offset(a_cell.row-1).value != 0:\n",
    "            if not str(a_cell.value)+str(source['c1'](a_cell.row).value) + str(source['k1'](a_cell.row).value) + str(cell_h(a_cell.row).value *-1) in schedule_keys:\n",
    "\n",
    "                current_schedule.sheets[a_cell.value].range('{}:{}'.format(current_schedule.sheets[a_cell.value]['d7'].end('down').row+1, current_schedule.sheets[a_cell.value]['d7'].end('down').row+1)).insert('down') #insert a row\n",
    "                current_schedule.sheets[a_cell.value]['D{}'.format(current_schedule.sheets[a_cell.value]['d7'].end('down').row + 1)].value = cell_h.offset(a_cell.row-1).value * -1\n",
    "                current_schedule.sheets[a_cell.value]['B{}'.format(current_schedule.sheets[a_cell.value]['d7'].end('down').row)].value = source['C1'].offset(a_cell.row-1).value\n",
    "                current_schedule.sheets[a_cell.value]['C{}'.format(current_schedule.sheets[a_cell.value]['d7'].end('down').row)].value = source['K1'].offset(a_cell.row-1).value\n",
    "                current_schedule.sheets[a_cell.value]['E{}'.format(current_schedule.sheets[a_cell.value]['d7'].end('down').row)].value = current_schedule.sheets[a_cell.value]['E{}'.format(current_schedule.sheets[a_cell.value]['d7'].end('down').row-1)].value + current_schedule.sheets[a_cell.value]['D{}'.format(current_schedule.sheets[a_cell.value]['d7'].end('down').row)].value\n",
    "\n",
    "        if a_cell.value in sheet_names and cell_i.offset(a_cell.row-1).value != 0:\n",
    "            if not str(a_cell.value)+str(source['c1'](a_cell.row).value) + str(source['k1'](a_cell.row).value) + str(cell_i(a_cell.row).value) in schedule_keys:\n",
    "\n",
    "                current_schedule.sheets[a_cell.value].range('{}:{}'.format(current_schedule.sheets[a_cell.value]['d7'].end('down').row+1, current_schedule.sheets[a_cell.value]['d7'].end('down').row+1)).insert('down') #insert a row\n",
    "                current_schedule.sheets[a_cell.value]['D{}'.format(current_schedule.sheets[a_cell.value]['d7'].end('down').row + 1)].value = cell_i.offset(a_cell.row-1).value\n",
    "                current_schedule.sheets[a_cell.value]['B{}'.format(current_schedule.sheets[a_cell.value]['d7'].end('down').row)].value = source['C1'].offset(a_cell.row-1).value \n",
    "                current_schedule.sheets[a_cell.value]['C{}'.format(current_schedule.sheets[a_cell.value]['d7'].end('down').row)].value = source['K1'].offset(a_cell.row-1).value \n",
    "                current_schedule.sheets[a_cell.value]['E{}'.format(current_schedule.sheets[a_cell.value]['d7'].end('down').row)].value = current_schedule.sheets[a_cell.value]['E{}'.format(current_schedule.sheets[a_cell.value]['d7'].end('down').row-1)].value + current_schedule.sheets[a_cell.value]['D{}'.format(current_schedule.sheets[a_cell.value]['d7'].end('down').row)].value\n",
    "\n",
    "    print(str(current_schedule),'updated')"
   ]
  },
  {
   "cell_type": "code",
   "execution_count": null,
   "metadata": {},
   "outputs": [],
   "source": []
  },
  {
   "cell_type": "code",
   "execution_count": null,
   "metadata": {},
   "outputs": [],
   "source": []
  },
  {
   "cell_type": "code",
   "execution_count": null,
   "metadata": {},
   "outputs": [],
   "source": []
  },
  {
   "cell_type": "code",
   "execution_count": null,
   "metadata": {},
   "outputs": [],
   "source": []
  },
  {
   "cell_type": "code",
   "execution_count": null,
   "metadata": {},
   "outputs": [],
   "source": []
  },
  {
   "cell_type": "code",
   "execution_count": null,
   "metadata": {},
   "outputs": [],
   "source": []
  },
  {
   "cell_type": "code",
   "execution_count": null,
   "metadata": {},
   "outputs": [],
   "source": []
  },
  {
   "cell_type": "code",
   "execution_count": null,
   "metadata": {},
   "outputs": [],
   "source": []
  },
  {
   "attachments": {},
   "cell_type": "markdown",
   "metadata": {},
   "source": [
    "#### Format notes"
   ]
  },
  {
   "attachments": {},
   "cell_type": "markdown",
   "metadata": {},
   "source": [
    "\n",
    "- B200 = it should be first cell with date (it should be updated yearly with the roll over)\n",
    "- If ater B200 there aren't movements. We should add a blank space in row 101. However we should include total (1/31/2023\t -   \t -   \t (43,758,015.17))\n",
    "- Every empty row in columns D should have 0 (to select all row of a column until last row)\n",
    "- B column is date. It should be the correct format (it should show Feb-23 instead 2/3/2023). B4 It should be bould.\n",
    "- D column is value. The values should be positive\n",
    "- C column is description\n",
    "- E column should be accumulated value\n",
    "- the last row in column E should be equivalent to D value in the same row."
   ]
  },
  {
   "cell_type": "markdown",
   "metadata": {},
   "source": []
  }
 ],
 "metadata": {
  "kernelspec": {
   "display_name": "Python 3",
   "language": "python",
   "name": "python3"
  },
  "language_info": {
   "codemirror_mode": {
    "name": "ipython",
    "version": 3
   },
   "file_extension": ".py",
   "mimetype": "text/x-python",
   "name": "python",
   "nbconvert_exporter": "python",
   "pygments_lexer": "ipython3",
   "version": "3.11.1"
  },
  "orig_nbformat": 4,
  "vscode": {
   "interpreter": {
    "hash": "a34884886984e33047acb90f1887564b208b72cdc56aaa518ef5377f0f5ffbf1"
   }
  }
 },
 "nbformat": 4,
 "nbformat_minor": 2
}
